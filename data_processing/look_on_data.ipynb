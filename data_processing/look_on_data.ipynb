{
 "cells": [
  {
   "cell_type": "code",
   "execution_count": 37,
   "metadata": {},
   "outputs": [],
   "source": [
    "import numpy as np\n",
    "import pandas as pd\n",
    "import matplotlib.pyplot as plt\n",
    "import datetime"
   ]
  },
  {
   "cell_type": "code",
   "execution_count": 38,
   "metadata": {},
   "outputs": [
    {
     "name": "stdout",
     "output_type": "stream",
     "text": [
      "<class 'pandas.core.frame.DataFrame'>\n",
      "RangeIndex: 1907 entries, 0 to 1906\n",
      "Data columns (total 19 columns):\n",
      " #   Column                        Non-Null Count  Dtype  \n",
      "---  ------                        --------------  -----  \n",
      " 0   id                            1907 non-null   int64  \n",
      " 1   campaign_type                 1907 non-null   object \n",
      " 2   channel                       1907 non-null   object \n",
      " 3   topic                         1877 non-null   object \n",
      " 4   started_at                    1824 non-null   object \n",
      " 5   finished_at                   1808 non-null   object \n",
      " 6   total_count                   1824 non-null   float64\n",
      " 7   ab_test                       12 non-null     object \n",
      " 8   warmup_mode                   1830 non-null   object \n",
      " 9   hour_limit                    31 non-null     float64\n",
      " 10  subject_length                1880 non-null   float64\n",
      " 11  subject_with_personalization  1880 non-null   object \n",
      " 12  subject_with_deadline         1880 non-null   object \n",
      " 13  subject_with_emoji            1880 non-null   object \n",
      " 14  subject_with_bonuses          1880 non-null   object \n",
      " 15  subject_with_discount         1880 non-null   object \n",
      " 16  subject_with_saleout          1880 non-null   object \n",
      " 17  is_test                       27 non-null     object \n",
      " 18  position                      24 non-null     float64\n",
      "dtypes: float64(4), int64(1), object(14)\n",
      "memory usage: 283.2+ KB\n"
     ]
    }
   ],
   "source": [
    "campaigns_df = pd.read_csv('../data/campaigns.csv')\n",
    "campaigns_df.info()"
   ]
  },
  {
   "cell_type": "code",
   "execution_count": 39,
   "metadata": {},
   "outputs": [
    {
     "data": {
      "text/html": [
       "<div>\n",
       "<style scoped>\n",
       "    .dataframe tbody tr th:only-of-type {\n",
       "        vertical-align: middle;\n",
       "    }\n",
       "\n",
       "    .dataframe tbody tr th {\n",
       "        vertical-align: top;\n",
       "    }\n",
       "\n",
       "    .dataframe thead th {\n",
       "        text-align: right;\n",
       "    }\n",
       "</style>\n",
       "<table border=\"1\" class=\"dataframe\">\n",
       "  <thead>\n",
       "    <tr style=\"text-align: right;\">\n",
       "      <th></th>\n",
       "      <th>id</th>\n",
       "      <th>campaign_type</th>\n",
       "      <th>channel</th>\n",
       "      <th>topic</th>\n",
       "      <th>started_at</th>\n",
       "      <th>finished_at</th>\n",
       "      <th>total_count</th>\n",
       "      <th>ab_test</th>\n",
       "      <th>warmup_mode</th>\n",
       "      <th>hour_limit</th>\n",
       "      <th>subject_length</th>\n",
       "      <th>subject_with_personalization</th>\n",
       "      <th>subject_with_deadline</th>\n",
       "      <th>subject_with_emoji</th>\n",
       "      <th>subject_with_bonuses</th>\n",
       "      <th>subject_with_discount</th>\n",
       "      <th>subject_with_saleout</th>\n",
       "      <th>is_test</th>\n",
       "      <th>position</th>\n",
       "    </tr>\n",
       "  </thead>\n",
       "  <tbody>\n",
       "    <tr>\n",
       "      <th>0</th>\n",
       "      <td>63</td>\n",
       "      <td>bulk</td>\n",
       "      <td>mobile_push</td>\n",
       "      <td>sale out</td>\n",
       "      <td>2021-04-30 07:22:36.615023</td>\n",
       "      <td>2021-04-30 07:23:41</td>\n",
       "      <td>48211.0</td>\n",
       "      <td>NaN</td>\n",
       "      <td>False</td>\n",
       "      <td>NaN</td>\n",
       "      <td>146.0</td>\n",
       "      <td>False</td>\n",
       "      <td>False</td>\n",
       "      <td>True</td>\n",
       "      <td>False</td>\n",
       "      <td>False</td>\n",
       "      <td>False</td>\n",
       "      <td>NaN</td>\n",
       "      <td>NaN</td>\n",
       "    </tr>\n",
       "    <tr>\n",
       "      <th>1</th>\n",
       "      <td>64</td>\n",
       "      <td>bulk</td>\n",
       "      <td>mobile_push</td>\n",
       "      <td>sale out</td>\n",
       "      <td>2021-04-30 09:02:50.817227</td>\n",
       "      <td>2021-04-30 09:04:08</td>\n",
       "      <td>1037337.0</td>\n",
       "      <td>NaN</td>\n",
       "      <td>False</td>\n",
       "      <td>NaN</td>\n",
       "      <td>97.0</td>\n",
       "      <td>False</td>\n",
       "      <td>False</td>\n",
       "      <td>True</td>\n",
       "      <td>False</td>\n",
       "      <td>False</td>\n",
       "      <td>False</td>\n",
       "      <td>NaN</td>\n",
       "      <td>NaN</td>\n",
       "    </tr>\n",
       "    <tr>\n",
       "      <th>2</th>\n",
       "      <td>78</td>\n",
       "      <td>bulk</td>\n",
       "      <td>mobile_push</td>\n",
       "      <td>sale out</td>\n",
       "      <td>2021-05-06 07:14:10.533318</td>\n",
       "      <td>2021-05-06 07:15:17</td>\n",
       "      <td>70080.0</td>\n",
       "      <td>NaN</td>\n",
       "      <td>False</td>\n",
       "      <td>NaN</td>\n",
       "      <td>146.0</td>\n",
       "      <td>False</td>\n",
       "      <td>False</td>\n",
       "      <td>True</td>\n",
       "      <td>False</td>\n",
       "      <td>False</td>\n",
       "      <td>False</td>\n",
       "      <td>NaN</td>\n",
       "      <td>NaN</td>\n",
       "    </tr>\n",
       "    <tr>\n",
       "      <th>3</th>\n",
       "      <td>79</td>\n",
       "      <td>bulk</td>\n",
       "      <td>mobile_push</td>\n",
       "      <td>sale out</td>\n",
       "      <td>2021-05-06 09:03:56.486750</td>\n",
       "      <td>2021-05-06 09:42:15</td>\n",
       "      <td>921838.0</td>\n",
       "      <td>NaN</td>\n",
       "      <td>False</td>\n",
       "      <td>NaN</td>\n",
       "      <td>97.0</td>\n",
       "      <td>False</td>\n",
       "      <td>False</td>\n",
       "      <td>True</td>\n",
       "      <td>False</td>\n",
       "      <td>False</td>\n",
       "      <td>False</td>\n",
       "      <td>NaN</td>\n",
       "      <td>NaN</td>\n",
       "    </tr>\n",
       "    <tr>\n",
       "      <th>4</th>\n",
       "      <td>89</td>\n",
       "      <td>bulk</td>\n",
       "      <td>mobile_push</td>\n",
       "      <td>NaN</td>\n",
       "      <td>2021-05-07 11:54:06.168664</td>\n",
       "      <td>2021-05-07 11:54:38</td>\n",
       "      <td>45503.0</td>\n",
       "      <td>NaN</td>\n",
       "      <td>False</td>\n",
       "      <td>NaN</td>\n",
       "      <td>109.0</td>\n",
       "      <td>False</td>\n",
       "      <td>True</td>\n",
       "      <td>True</td>\n",
       "      <td>False</td>\n",
       "      <td>False</td>\n",
       "      <td>False</td>\n",
       "      <td>NaN</td>\n",
       "      <td>NaN</td>\n",
       "    </tr>\n",
       "  </tbody>\n",
       "</table>\n",
       "</div>"
      ],
      "text/plain": [
       "   id campaign_type      channel     topic                  started_at  \\\n",
       "0  63          bulk  mobile_push  sale out  2021-04-30 07:22:36.615023   \n",
       "1  64          bulk  mobile_push  sale out  2021-04-30 09:02:50.817227   \n",
       "2  78          bulk  mobile_push  sale out  2021-05-06 07:14:10.533318   \n",
       "3  79          bulk  mobile_push  sale out  2021-05-06 09:03:56.486750   \n",
       "4  89          bulk  mobile_push       NaN  2021-05-07 11:54:06.168664   \n",
       "\n",
       "           finished_at  total_count ab_test warmup_mode  hour_limit  \\\n",
       "0  2021-04-30 07:23:41      48211.0     NaN       False         NaN   \n",
       "1  2021-04-30 09:04:08    1037337.0     NaN       False         NaN   \n",
       "2  2021-05-06 07:15:17      70080.0     NaN       False         NaN   \n",
       "3  2021-05-06 09:42:15     921838.0     NaN       False         NaN   \n",
       "4  2021-05-07 11:54:38      45503.0     NaN       False         NaN   \n",
       "\n",
       "   subject_length subject_with_personalization subject_with_deadline  \\\n",
       "0           146.0                        False                 False   \n",
       "1            97.0                        False                 False   \n",
       "2           146.0                        False                 False   \n",
       "3            97.0                        False                 False   \n",
       "4           109.0                        False                  True   \n",
       "\n",
       "  subject_with_emoji subject_with_bonuses subject_with_discount  \\\n",
       "0               True                False                 False   \n",
       "1               True                False                 False   \n",
       "2               True                False                 False   \n",
       "3               True                False                 False   \n",
       "4               True                False                 False   \n",
       "\n",
       "  subject_with_saleout is_test  position  \n",
       "0                False     NaN       NaN  \n",
       "1                False     NaN       NaN  \n",
       "2                False     NaN       NaN  \n",
       "3                False     NaN       NaN  \n",
       "4                False     NaN       NaN  "
      ]
     },
     "execution_count": 39,
     "metadata": {},
     "output_type": "execute_result"
    }
   ],
   "source": [
    "campaigns_df.head()"
   ]
  },
  {
   "cell_type": "code",
   "execution_count": 40,
   "metadata": {},
   "outputs": [],
   "source": [
    "campaigns_df['started_at'] = pd.to_datetime(campaigns_df['started_at'])\n",
    "campaigns_df['finished_at'] = pd.to_datetime(campaigns_df['finished_at'])\n",
    "campaigns_df['total_count'] = campaigns_df['total_count'].astype('Int64')\n",
    "campaigns_df['ab_test'] = campaigns_df['ab_test'].astype('bool')\n",
    "campaigns_df['warmup_mode'] = campaigns_df['warmup_mode'].astype('bool')\n",
    "campaigns_df['hour_limit'] = campaigns_df['hour_limit'].astype('Int64')\n",
    "campaigns_df['subject_length'] = campaigns_df['subject_length'].astype('Int64')\n",
    "campaigns_df['subject_with_personalization'] = campaigns_df['subject_with_personalization'].astype('bool')\n",
    "campaigns_df['subject_with_deadline'] = campaigns_df['subject_with_deadline'].astype('bool')\n",
    "campaigns_df['subject_with_emoji'] = campaigns_df['subject_with_emoji'].astype('bool')\n",
    "campaigns_df['subject_with_bonuses'] = campaigns_df['subject_with_bonuses'].astype('bool')\n",
    "campaigns_df['subject_with_discount'] = campaigns_df['subject_with_discount'].astype('bool')\n",
    "campaigns_df['subject_with_saleout'] = campaigns_df['subject_with_saleout'].astype('bool')\n",
    "campaigns_df['is_test'] = campaigns_df['is_test'].astype('bool')\n",
    "campaigns_df['position'] = campaigns_df['position'].astype('Int64')"
   ]
  },
  {
   "cell_type": "code",
   "execution_count": 41,
   "metadata": {},
   "outputs": [
    {
     "name": "stdout",
     "output_type": "stream",
     "text": [
      "<class 'pandas.core.frame.DataFrame'>\n",
      "RangeIndex: 1907 entries, 0 to 1906\n",
      "Data columns (total 19 columns):\n",
      " #   Column                        Non-Null Count  Dtype         \n",
      "---  ------                        --------------  -----         \n",
      " 0   id                            1907 non-null   int64         \n",
      " 1   campaign_type                 1907 non-null   object        \n",
      " 2   channel                       1907 non-null   object        \n",
      " 3   topic                         1877 non-null   object        \n",
      " 4   started_at                    1824 non-null   datetime64[ns]\n",
      " 5   finished_at                   1808 non-null   datetime64[ns]\n",
      " 6   total_count                   1824 non-null   Int64         \n",
      " 7   ab_test                       1907 non-null   bool          \n",
      " 8   warmup_mode                   1907 non-null   bool          \n",
      " 9   hour_limit                    31 non-null     Int64         \n",
      " 10  subject_length                1880 non-null   Int64         \n",
      " 11  subject_with_personalization  1907 non-null   bool          \n",
      " 12  subject_with_deadline         1907 non-null   bool          \n",
      " 13  subject_with_emoji            1907 non-null   bool          \n",
      " 14  subject_with_bonuses          1907 non-null   bool          \n",
      " 15  subject_with_discount         1907 non-null   bool          \n",
      " 16  subject_with_saleout          1907 non-null   bool          \n",
      " 17  is_test                       1907 non-null   bool          \n",
      " 18  position                      24 non-null     Int64         \n",
      "dtypes: Int64(4), bool(9), datetime64[ns](2), int64(1), object(3)\n",
      "memory usage: 173.3+ KB\n"
     ]
    }
   ],
   "source": [
    "campaigns_df.info()"
   ]
  },
  {
   "cell_type": "code",
   "execution_count": 42,
   "metadata": {},
   "outputs": [
    {
     "data": {
      "text/html": [
       "<div>\n",
       "<style scoped>\n",
       "    .dataframe tbody tr th:only-of-type {\n",
       "        vertical-align: middle;\n",
       "    }\n",
       "\n",
       "    .dataframe tbody tr th {\n",
       "        vertical-align: top;\n",
       "    }\n",
       "\n",
       "    .dataframe thead th {\n",
       "        text-align: right;\n",
       "    }\n",
       "</style>\n",
       "<table border=\"1\" class=\"dataframe\">\n",
       "  <thead>\n",
       "    <tr style=\"text-align: right;\">\n",
       "      <th></th>\n",
       "      <th>id</th>\n",
       "      <th>started_at</th>\n",
       "      <th>finished_at</th>\n",
       "      <th>total_count</th>\n",
       "      <th>hour_limit</th>\n",
       "      <th>subject_length</th>\n",
       "      <th>position</th>\n",
       "    </tr>\n",
       "  </thead>\n",
       "  <tbody>\n",
       "    <tr>\n",
       "      <th>count</th>\n",
       "      <td>1907.000000</td>\n",
       "      <td>1824</td>\n",
       "      <td>1808</td>\n",
       "      <td>1824.0</td>\n",
       "      <td>31.0</td>\n",
       "      <td>1880.0</td>\n",
       "      <td>24.0</td>\n",
       "    </tr>\n",
       "    <tr>\n",
       "      <th>mean</th>\n",
       "      <td>6122.944415</td>\n",
       "      <td>2022-07-19 04:33:43.617460480</td>\n",
       "      <td>2022-07-19 09:28:15.672566528</td>\n",
       "      <td>374129.463268</td>\n",
       "      <td>64874.193548</td>\n",
       "      <td>94.340426</td>\n",
       "      <td>6.333333</td>\n",
       "    </tr>\n",
       "    <tr>\n",
       "      <th>min</th>\n",
       "      <td>26.000000</td>\n",
       "      <td>2021-04-30 07:22:36.615023</td>\n",
       "      <td>2021-04-30 07:23:41</td>\n",
       "      <td>1.0</td>\n",
       "      <td>300.0</td>\n",
       "      <td>4.0</td>\n",
       "      <td>0.0</td>\n",
       "    </tr>\n",
       "    <tr>\n",
       "      <th>25%</th>\n",
       "      <td>2933.500000</td>\n",
       "      <td>2022-02-22 13:07:54.283733248</td>\n",
       "      <td>2022-02-22 13:15:39.500000</td>\n",
       "      <td>846.75</td>\n",
       "      <td>6500.0</td>\n",
       "      <td>92.0</td>\n",
       "      <td>2.75</td>\n",
       "    </tr>\n",
       "    <tr>\n",
       "      <th>50%</th>\n",
       "      <td>6078.000000</td>\n",
       "      <td>2022-08-29 20:42:29.660624896</td>\n",
       "      <td>2022-08-29 20:47:42.500000</td>\n",
       "      <td>2006.5</td>\n",
       "      <td>10000.0</td>\n",
       "      <td>96.0</td>\n",
       "      <td>5.5</td>\n",
       "    </tr>\n",
       "    <tr>\n",
       "      <th>75%</th>\n",
       "      <td>8964.500000</td>\n",
       "      <td>2022-12-21 09:30:20.732557312</td>\n",
       "      <td>2022-12-21 12:49:31</td>\n",
       "      <td>282033.25</td>\n",
       "      <td>35500.0</td>\n",
       "      <td>112.0</td>\n",
       "      <td>10.0</td>\n",
       "    </tr>\n",
       "    <tr>\n",
       "      <th>max</th>\n",
       "      <td>25007.000000</td>\n",
       "      <td>2023-04-21 15:30:14.136724</td>\n",
       "      <td>2023-04-21 16:09:50</td>\n",
       "      <td>5371769.0</td>\n",
       "      <td>1000000.0</td>\n",
       "      <td>185.0</td>\n",
       "      <td>14.0</td>\n",
       "    </tr>\n",
       "    <tr>\n",
       "      <th>std</th>\n",
       "      <td>3847.749021</td>\n",
       "      <td>NaN</td>\n",
       "      <td>NaN</td>\n",
       "      <td>819845.889171</td>\n",
       "      <td>184639.986582</td>\n",
       "      <td>28.482613</td>\n",
       "      <td>4.536487</td>\n",
       "    </tr>\n",
       "  </tbody>\n",
       "</table>\n",
       "</div>"
      ],
      "text/plain": [
       "                 id                     started_at  \\\n",
       "count   1907.000000                           1824   \n",
       "mean    6122.944415  2022-07-19 04:33:43.617460480   \n",
       "min       26.000000     2021-04-30 07:22:36.615023   \n",
       "25%     2933.500000  2022-02-22 13:07:54.283733248   \n",
       "50%     6078.000000  2022-08-29 20:42:29.660624896   \n",
       "75%     8964.500000  2022-12-21 09:30:20.732557312   \n",
       "max    25007.000000     2023-04-21 15:30:14.136724   \n",
       "std     3847.749021                            NaN   \n",
       "\n",
       "                         finished_at    total_count     hour_limit  \\\n",
       "count                           1808         1824.0           31.0   \n",
       "mean   2022-07-19 09:28:15.672566528  374129.463268   64874.193548   \n",
       "min              2021-04-30 07:23:41            1.0          300.0   \n",
       "25%       2022-02-22 13:15:39.500000         846.75         6500.0   \n",
       "50%       2022-08-29 20:47:42.500000         2006.5        10000.0   \n",
       "75%              2022-12-21 12:49:31      282033.25        35500.0   \n",
       "max              2023-04-21 16:09:50      5371769.0      1000000.0   \n",
       "std                              NaN  819845.889171  184639.986582   \n",
       "\n",
       "       subject_length  position  \n",
       "count          1880.0      24.0  \n",
       "mean        94.340426  6.333333  \n",
       "min               4.0       0.0  \n",
       "25%              92.0      2.75  \n",
       "50%              96.0       5.5  \n",
       "75%             112.0      10.0  \n",
       "max             185.0      14.0  \n",
       "std         28.482613  4.536487  "
      ]
     },
     "execution_count": 42,
     "metadata": {},
     "output_type": "execute_result"
    }
   ],
   "source": [
    "campaigns_df.describe()"
   ]
  },
  {
   "cell_type": "code",
   "execution_count": 43,
   "metadata": {},
   "outputs": [
    {
     "name": "stdout",
     "output_type": "stream",
     "text": [
      "<class 'pandas.core.frame.DataFrame'>\n",
      "RangeIndex: 175439 entries, 0 to 175438\n",
      "Data columns (total 4 columns):\n",
      " #   Column               Non-Null Count   Dtype \n",
      "---  ------               --------------   ----- \n",
      " 0   client_id            175439 non-null  int64 \n",
      " 1   first_purchase_date  175439 non-null  object\n",
      " 2   user_id              175439 non-null  int64 \n",
      " 3   user_device_id       175439 non-null  int64 \n",
      "dtypes: int64(3), object(1)\n",
      "memory usage: 5.4+ MB\n"
     ]
    }
   ],
   "source": [
    "client_fpd_df = pd.read_csv('../data/client_first_purchase_date.csv')\n",
    "client_fpd_df.info()"
   ]
  },
  {
   "cell_type": "code",
   "execution_count": 44,
   "metadata": {},
   "outputs": [],
   "source": [
    "client_fpd_df['first_purchase_date'] =  pd.to_datetime(client_fpd_df['first_purchase_date'])"
   ]
  },
  {
   "cell_type": "code",
   "execution_count": 45,
   "metadata": {},
   "outputs": [
    {
     "name": "stdout",
     "output_type": "stream",
     "text": [
      "<class 'pandas.core.frame.DataFrame'>\n",
      "RangeIndex: 1275727 entries, 0 to 1275726\n",
      "Data columns (total 9 columns):\n",
      " #   Column         Non-Null Count    Dtype  \n",
      "---  ------         --------------    -----  \n",
      " 0   event_time     1275727 non-null  object \n",
      " 1   event_type     1275727 non-null  object \n",
      " 2   product_id     1275727 non-null  int64  \n",
      " 3   category_id    1275727 non-null  int64  \n",
      " 4   category_code  953612 non-null   object \n",
      " 5   brand          1103692 non-null  object \n",
      " 6   price          1275727 non-null  float64\n",
      " 7   user_id        1275727 non-null  int64  \n",
      " 8   user_session   1275727 non-null  object \n",
      "dtypes: float64(1), int64(3), object(5)\n",
      "memory usage: 87.6+ MB\n"
     ]
    }
   ],
   "source": [
    "events_df = pd.read_csv('../data/events.csv')\n",
    "events_df.info()"
   ]
  },
  {
   "cell_type": "code",
   "execution_count": 46,
   "metadata": {},
   "outputs": [
    {
     "data": {
      "text/html": [
       "<div>\n",
       "<style scoped>\n",
       "    .dataframe tbody tr th:only-of-type {\n",
       "        vertical-align: middle;\n",
       "    }\n",
       "\n",
       "    .dataframe tbody tr th {\n",
       "        vertical-align: top;\n",
       "    }\n",
       "\n",
       "    .dataframe thead th {\n",
       "        text-align: right;\n",
       "    }\n",
       "</style>\n",
       "<table border=\"1\" class=\"dataframe\">\n",
       "  <thead>\n",
       "    <tr style=\"text-align: right;\">\n",
       "      <th></th>\n",
       "      <th>event_time</th>\n",
       "      <th>event_type</th>\n",
       "      <th>product_id</th>\n",
       "      <th>category_id</th>\n",
       "      <th>category_code</th>\n",
       "      <th>brand</th>\n",
       "      <th>price</th>\n",
       "      <th>user_id</th>\n",
       "      <th>user_session</th>\n",
       "    </tr>\n",
       "  </thead>\n",
       "  <tbody>\n",
       "    <tr>\n",
       "      <th>0</th>\n",
       "      <td>2019-10-01 02:19:22 UTC</td>\n",
       "      <td>view</td>\n",
       "      <td>1004238</td>\n",
       "      <td>2053013555631882655</td>\n",
       "      <td>electronics.smartphone</td>\n",
       "      <td>apple</td>\n",
       "      <td>1206.40</td>\n",
       "      <td>555462125</td>\n",
       "      <td>7ea7cb65-c4d9-428f-bf3b-845adb8b6800</td>\n",
       "    </tr>\n",
       "    <tr>\n",
       "      <th>1</th>\n",
       "      <td>2019-10-01 02:19:27 UTC</td>\n",
       "      <td>view</td>\n",
       "      <td>1004238</td>\n",
       "      <td>2053013555631882655</td>\n",
       "      <td>electronics.smartphone</td>\n",
       "      <td>apple</td>\n",
       "      <td>1206.40</td>\n",
       "      <td>555462125</td>\n",
       "      <td>7ea7cb65-c4d9-428f-bf3b-845adb8b6800</td>\n",
       "    </tr>\n",
       "    <tr>\n",
       "      <th>2</th>\n",
       "      <td>2019-10-01 02:20:58 UTC</td>\n",
       "      <td>view</td>\n",
       "      <td>12100563</td>\n",
       "      <td>2053013555816432043</td>\n",
       "      <td>kids.skates</td>\n",
       "      <td>xiaomi</td>\n",
       "      <td>514.79</td>\n",
       "      <td>555462177</td>\n",
       "      <td>7fb7bd3e-5985-4189-8e5e-cf92e484dcf0</td>\n",
       "    </tr>\n",
       "    <tr>\n",
       "      <th>3</th>\n",
       "      <td>2019-10-01 02:21:08 UTC</td>\n",
       "      <td>view</td>\n",
       "      <td>12100513</td>\n",
       "      <td>2053013555816432043</td>\n",
       "      <td>kids.skates</td>\n",
       "      <td>maomaoku</td>\n",
       "      <td>338.23</td>\n",
       "      <td>555462177</td>\n",
       "      <td>7fb7bd3e-5985-4189-8e5e-cf92e484dcf0</td>\n",
       "    </tr>\n",
       "    <tr>\n",
       "      <th>4</th>\n",
       "      <td>2019-10-01 02:21:36 UTC</td>\n",
       "      <td>view</td>\n",
       "      <td>12100629</td>\n",
       "      <td>2053013555816432043</td>\n",
       "      <td>kids.skates</td>\n",
       "      <td>kugoo</td>\n",
       "      <td>293.19</td>\n",
       "      <td>555462177</td>\n",
       "      <td>7fb7bd3e-5985-4189-8e5e-cf92e484dcf0</td>\n",
       "    </tr>\n",
       "  </tbody>\n",
       "</table>\n",
       "</div>"
      ],
      "text/plain": [
       "                event_time event_type  product_id          category_id  \\\n",
       "0  2019-10-01 02:19:22 UTC       view     1004238  2053013555631882655   \n",
       "1  2019-10-01 02:19:27 UTC       view     1004238  2053013555631882655   \n",
       "2  2019-10-01 02:20:58 UTC       view    12100563  2053013555816432043   \n",
       "3  2019-10-01 02:21:08 UTC       view    12100513  2053013555816432043   \n",
       "4  2019-10-01 02:21:36 UTC       view    12100629  2053013555816432043   \n",
       "\n",
       "            category_code     brand    price    user_id  \\\n",
       "0  electronics.smartphone     apple  1206.40  555462125   \n",
       "1  electronics.smartphone     apple  1206.40  555462125   \n",
       "2             kids.skates    xiaomi   514.79  555462177   \n",
       "3             kids.skates  maomaoku   338.23  555462177   \n",
       "4             kids.skates     kugoo   293.19  555462177   \n",
       "\n",
       "                           user_session  \n",
       "0  7ea7cb65-c4d9-428f-bf3b-845adb8b6800  \n",
       "1  7ea7cb65-c4d9-428f-bf3b-845adb8b6800  \n",
       "2  7fb7bd3e-5985-4189-8e5e-cf92e484dcf0  \n",
       "3  7fb7bd3e-5985-4189-8e5e-cf92e484dcf0  \n",
       "4  7fb7bd3e-5985-4189-8e5e-cf92e484dcf0  "
      ]
     },
     "execution_count": 46,
     "metadata": {},
     "output_type": "execute_result"
    }
   ],
   "source": [
    "events_df.head()"
   ]
  },
  {
   "cell_type": "code",
   "execution_count": 47,
   "metadata": {},
   "outputs": [],
   "source": [
    "events_df['event_time'] = pd.to_datetime(events_df['event_time'])"
   ]
  },
  {
   "cell_type": "code",
   "execution_count": 48,
   "metadata": {},
   "outputs": [
    {
     "name": "stderr",
     "output_type": "stream",
     "text": [
      "C:\\Users\\Диана\\AppData\\Local\\Temp\\ipykernel_8028\\4220761152.py:1: DtypeWarning: Columns (7,8,16,17,21,23,25,27,29) have mixed types. Specify dtype option on import or set low_memory=False.\n",
      "  messages_df = pd.read_csv('../data/messages.csv')\n"
     ]
    },
    {
     "name": "stdout",
     "output_type": "stream",
     "text": [
      "<class 'pandas.core.frame.DataFrame'>\n",
      "RangeIndex: 2996201 entries, 0 to 2996200\n",
      "Data columns (total 34 columns):\n",
      " #   Column                 Dtype  \n",
      "---  ------                 -----  \n",
      " 0   id                     int64  \n",
      " 1   message_id             object \n",
      " 2   campaign_id            int64  \n",
      " 3   message_type           object \n",
      " 4   client_id              int64  \n",
      " 5   channel                object \n",
      " 6   category               float64\n",
      " 7   platform               object \n",
      " 8   email_provider         object \n",
      " 9   stream                 object \n",
      " 10  date                   object \n",
      " 11  sent_at                object \n",
      " 12  is_opened              object \n",
      " 13  opened_first_time_at   object \n",
      " 14  opened_last_time_at    object \n",
      " 15  is_clicked             object \n",
      " 16  clicked_first_time_at  object \n",
      " 17  clicked_last_time_at   object \n",
      " 18  is_unsubscribed        object \n",
      " 19  unsubscribed_at        object \n",
      " 20  is_hard_bounced        object \n",
      " 21  hard_bounced_at        object \n",
      " 22  is_soft_bounced        object \n",
      " 23  soft_bounced_at        object \n",
      " 24  is_complained          object \n",
      " 25  complained_at          object \n",
      " 26  is_blocked             object \n",
      " 27  blocked_at             object \n",
      " 28  is_purchased           object \n",
      " 29  purchased_at           object \n",
      " 30  created_at             object \n",
      " 31  updated_at             object \n",
      " 32  user_device_id         int64  \n",
      " 33  user_id                int64  \n",
      "dtypes: float64(1), int64(5), object(28)\n",
      "memory usage: 777.2+ MB\n"
     ]
    }
   ],
   "source": [
    "messages_df = pd.read_csv('../data/messages.csv')\n",
    "messages_df.info()"
   ]
  },
  {
   "cell_type": "code",
   "execution_count": 49,
   "metadata": {},
   "outputs": [
    {
     "data": {
      "text/plain": [
       "Index(['id', 'message_id', 'campaign_id', 'message_type', 'client_id',\n",
       "       'channel', 'category', 'platform', 'email_provider', 'stream', 'date',\n",
       "       'sent_at', 'is_opened', 'opened_first_time_at', 'opened_last_time_at',\n",
       "       'is_clicked', 'clicked_first_time_at', 'clicked_last_time_at',\n",
       "       'is_unsubscribed', 'unsubscribed_at', 'is_hard_bounced',\n",
       "       'hard_bounced_at', 'is_soft_bounced', 'soft_bounced_at',\n",
       "       'is_complained', 'complained_at', 'is_blocked', 'blocked_at',\n",
       "       'is_purchased', 'purchased_at', 'created_at', 'updated_at',\n",
       "       'user_device_id', 'user_id'],\n",
       "      dtype='object')"
      ]
     },
     "execution_count": 49,
     "metadata": {},
     "output_type": "execute_result"
    }
   ],
   "source": [
    "messages_df.columns"
   ]
  },
  {
   "cell_type": "code",
   "execution_count": 50,
   "metadata": {},
   "outputs": [
    {
     "data": {
      "text/html": [
       "<div>\n",
       "<style scoped>\n",
       "    .dataframe tbody tr th:only-of-type {\n",
       "        vertical-align: middle;\n",
       "    }\n",
       "\n",
       "    .dataframe tbody tr th {\n",
       "        vertical-align: top;\n",
       "    }\n",
       "\n",
       "    .dataframe thead th {\n",
       "        text-align: right;\n",
       "    }\n",
       "</style>\n",
       "<table border=\"1\" class=\"dataframe\">\n",
       "  <thead>\n",
       "    <tr style=\"text-align: right;\">\n",
       "      <th></th>\n",
       "      <th>id</th>\n",
       "      <th>message_id</th>\n",
       "      <th>campaign_id</th>\n",
       "      <th>message_type</th>\n",
       "      <th>client_id</th>\n",
       "      <th>channel</th>\n",
       "      <th>category</th>\n",
       "      <th>platform</th>\n",
       "      <th>email_provider</th>\n",
       "      <th>stream</th>\n",
       "      <th>...</th>\n",
       "      <th>is_complained</th>\n",
       "      <th>complained_at</th>\n",
       "      <th>is_blocked</th>\n",
       "      <th>blocked_at</th>\n",
       "      <th>is_purchased</th>\n",
       "      <th>purchased_at</th>\n",
       "      <th>created_at</th>\n",
       "      <th>updated_at</th>\n",
       "      <th>user_device_id</th>\n",
       "      <th>user_id</th>\n",
       "    </tr>\n",
       "  </thead>\n",
       "  <tbody>\n",
       "    <tr>\n",
       "      <th>0</th>\n",
       "      <td>3527358</td>\n",
       "      <td>3f6aaad3-bab7-4886-b083-fe8c1f210066</td>\n",
       "      <td>31</td>\n",
       "      <td>transactional</td>\n",
       "      <td>1515915625489833514</td>\n",
       "      <td>email</td>\n",
       "      <td>NaN</td>\n",
       "      <td>NaN</td>\n",
       "      <td>mail.ru</td>\n",
       "      <td>desktop</td>\n",
       "      <td>...</td>\n",
       "      <td>f</td>\n",
       "      <td>NaN</td>\n",
       "      <td>f</td>\n",
       "      <td>NaN</td>\n",
       "      <td>t</td>\n",
       "      <td>2021-05-06 16:40:38</td>\n",
       "      <td>2023-04-27 08:55:05.883908</td>\n",
       "      <td>2023-04-27 08:57:33.080129</td>\n",
       "      <td>4</td>\n",
       "      <td>548983351</td>\n",
       "    </tr>\n",
       "    <tr>\n",
       "      <th>1</th>\n",
       "      <td>3532962</td>\n",
       "      <td>6bc733bc-e665-4252-8c2d-bc605bb8e5b8</td>\n",
       "      <td>179</td>\n",
       "      <td>transactional</td>\n",
       "      <td>1515915625491048279</td>\n",
       "      <td>email</td>\n",
       "      <td>NaN</td>\n",
       "      <td>NaN</td>\n",
       "      <td>gmail.com</td>\n",
       "      <td>desktop</td>\n",
       "      <td>...</td>\n",
       "      <td>f</td>\n",
       "      <td>NaN</td>\n",
       "      <td>f</td>\n",
       "      <td>NaN</td>\n",
       "      <td>f</td>\n",
       "      <td>NaN</td>\n",
       "      <td>2023-04-27 08:55:14.094663</td>\n",
       "      <td>2023-04-27 08:56:26.183622</td>\n",
       "      <td>9</td>\n",
       "      <td>549104827</td>\n",
       "    </tr>\n",
       "    <tr>\n",
       "      <th>2</th>\n",
       "      <td>3527800</td>\n",
       "      <td>19f8c608-b0e0-4a4d-ab42-40b8f47fedf3</td>\n",
       "      <td>32</td>\n",
       "      <td>transactional</td>\n",
       "      <td>1515915625468175331</td>\n",
       "      <td>email</td>\n",
       "      <td>NaN</td>\n",
       "      <td>NaN</td>\n",
       "      <td>gmail.com</td>\n",
       "      <td>desktop</td>\n",
       "      <td>...</td>\n",
       "      <td>f</td>\n",
       "      <td>NaN</td>\n",
       "      <td>f</td>\n",
       "      <td>NaN</td>\n",
       "      <td>t</td>\n",
       "      <td>2021-05-05 22:17:19</td>\n",
       "      <td>2023-04-27 08:55:06.51997</td>\n",
       "      <td>2023-04-27 08:56:37.95411</td>\n",
       "      <td>1</td>\n",
       "      <td>546817533</td>\n",
       "    </tr>\n",
       "    <tr>\n",
       "      <th>3</th>\n",
       "      <td>3530932</td>\n",
       "      <td>f6dccc8b-5f0e-4f94-9fee-d18d611f03df</td>\n",
       "      <td>32</td>\n",
       "      <td>transactional</td>\n",
       "      <td>1515915625559827831</td>\n",
       "      <td>email</td>\n",
       "      <td>NaN</td>\n",
       "      <td>NaN</td>\n",
       "      <td>mail.ru</td>\n",
       "      <td>desktop</td>\n",
       "      <td>...</td>\n",
       "      <td>f</td>\n",
       "      <td>NaN</td>\n",
       "      <td>f</td>\n",
       "      <td>NaN</td>\n",
       "      <td>f</td>\n",
       "      <td>NaN</td>\n",
       "      <td>2023-04-27 08:55:11.003305</td>\n",
       "      <td>2023-04-27 08:56:41.980678</td>\n",
       "      <td>1</td>\n",
       "      <td>555982783</td>\n",
       "    </tr>\n",
       "    <tr>\n",
       "      <th>4</th>\n",
       "      <td>3520809</td>\n",
       "      <td>c2ed517d-38b6-42fd-8cc5-c1dce5ab58e4</td>\n",
       "      <td>26</td>\n",
       "      <td>transactional</td>\n",
       "      <td>1515915625468112259</td>\n",
       "      <td>email</td>\n",
       "      <td>NaN</td>\n",
       "      <td>NaN</td>\n",
       "      <td>yandex.ru</td>\n",
       "      <td>desktop</td>\n",
       "      <td>...</td>\n",
       "      <td>f</td>\n",
       "      <td>NaN</td>\n",
       "      <td>f</td>\n",
       "      <td>NaN</td>\n",
       "      <td>f</td>\n",
       "      <td>NaN</td>\n",
       "      <td>2023-04-27 08:54:56.305159</td>\n",
       "      <td>2023-04-27 08:55:18.46432</td>\n",
       "      <td>9</td>\n",
       "      <td>546811225</td>\n",
       "    </tr>\n",
       "  </tbody>\n",
       "</table>\n",
       "<p>5 rows × 34 columns</p>\n",
       "</div>"
      ],
      "text/plain": [
       "        id                            message_id  campaign_id   message_type  \\\n",
       "0  3527358  3f6aaad3-bab7-4886-b083-fe8c1f210066           31  transactional   \n",
       "1  3532962  6bc733bc-e665-4252-8c2d-bc605bb8e5b8          179  transactional   \n",
       "2  3527800  19f8c608-b0e0-4a4d-ab42-40b8f47fedf3           32  transactional   \n",
       "3  3530932  f6dccc8b-5f0e-4f94-9fee-d18d611f03df           32  transactional   \n",
       "4  3520809  c2ed517d-38b6-42fd-8cc5-c1dce5ab58e4           26  transactional   \n",
       "\n",
       "             client_id channel  category platform email_provider   stream  \\\n",
       "0  1515915625489833514   email       NaN      NaN        mail.ru  desktop   \n",
       "1  1515915625491048279   email       NaN      NaN      gmail.com  desktop   \n",
       "2  1515915625468175331   email       NaN      NaN      gmail.com  desktop   \n",
       "3  1515915625559827831   email       NaN      NaN        mail.ru  desktop   \n",
       "4  1515915625468112259   email       NaN      NaN      yandex.ru  desktop   \n",
       "\n",
       "   ... is_complained complained_at is_blocked blocked_at is_purchased  \\\n",
       "0  ...             f           NaN          f        NaN            t   \n",
       "1  ...             f           NaN          f        NaN            f   \n",
       "2  ...             f           NaN          f        NaN            t   \n",
       "3  ...             f           NaN          f        NaN            f   \n",
       "4  ...             f           NaN          f        NaN            f   \n",
       "\n",
       "          purchased_at                  created_at  \\\n",
       "0  2021-05-06 16:40:38  2023-04-27 08:55:05.883908   \n",
       "1                  NaN  2023-04-27 08:55:14.094663   \n",
       "2  2021-05-05 22:17:19   2023-04-27 08:55:06.51997   \n",
       "3                  NaN  2023-04-27 08:55:11.003305   \n",
       "4                  NaN  2023-04-27 08:54:56.305159   \n",
       "\n",
       "                   updated_at user_device_id    user_id  \n",
       "0  2023-04-27 08:57:33.080129              4  548983351  \n",
       "1  2023-04-27 08:56:26.183622              9  549104827  \n",
       "2   2023-04-27 08:56:37.95411              1  546817533  \n",
       "3  2023-04-27 08:56:41.980678              1  555982783  \n",
       "4   2023-04-27 08:55:18.46432              9  546811225  \n",
       "\n",
       "[5 rows x 34 columns]"
      ]
     },
     "execution_count": 50,
     "metadata": {},
     "output_type": "execute_result"
    }
   ],
   "source": [
    "messages_df.head(5)"
   ]
  },
  {
   "cell_type": "code",
   "execution_count": 51,
   "metadata": {},
   "outputs": [
    {
     "data": {
      "text/plain": [
       "platform\n",
       "NaN           2775993\n",
       "desktop        165694\n",
       "smartphone      51432\n",
       "phablet          2033\n",
       "tablet           1049\n",
       "Name: count, dtype: int64"
      ]
     },
     "execution_count": 51,
     "metadata": {},
     "output_type": "execute_result"
    }
   ],
   "source": [
    "messages_df['platform'].value_counts(dropna=False)"
   ]
  },
  {
   "cell_type": "code",
   "execution_count": 52,
   "metadata": {},
   "outputs": [
    {
     "data": {
      "text/plain": [
       "category\n",
       "NaN    2996201\n",
       "Name: count, dtype: int64"
      ]
     },
     "execution_count": 52,
     "metadata": {},
     "output_type": "execute_result"
    }
   ],
   "source": [
    "messages_df['category'].value_counts(dropna=False)"
   ]
  },
  {
   "cell_type": "code",
   "execution_count": 53,
   "metadata": {},
   "outputs": [
    {
     "data": {
      "text/plain": [
       "complained_at\n",
       "NaN                    2994822\n",
       "2021-05-20 05:00:06          6\n",
       "2021-08-18 15:00:13          6\n",
       "2021-06-15 14:20:21          6\n",
       "2021-06-15 14:24:42          5\n",
       "                        ...   \n",
       "2021-06-15 14:24:19          1\n",
       "2021-06-15 14:22:37          1\n",
       "2021-06-15 14:25:02          1\n",
       "2021-06-15 14:24:00          1\n",
       "2021-06-15 14:24:08          1\n",
       "Name: count, Length: 1051, dtype: int64"
      ]
     },
     "execution_count": 53,
     "metadata": {},
     "output_type": "execute_result"
    }
   ],
   "source": [
    "messages_df['complained_at'].value_counts(dropna=False)"
   ]
  },
  {
   "cell_type": "code",
   "execution_count": 54,
   "metadata": {},
   "outputs": [
    {
     "data": {
      "text/plain": [
       "is_soft_bounced\n",
       "f    2994822\n",
       "t       1379\n",
       "Name: count, dtype: int64"
      ]
     },
     "execution_count": 54,
     "metadata": {},
     "output_type": "execute_result"
    }
   ],
   "source": [
    "messages_df['is_soft_bounced'].value_counts(dropna=False)"
   ]
  },
  {
   "cell_type": "code",
   "execution_count": 55,
   "metadata": {},
   "outputs": [],
   "source": [
    "messages_df['date'] = pd.to_datetime(messages_df['date'])\n",
    "messages_df['sent_at'] = pd.to_datetime(messages_df['sent_at'])\n",
    "\n",
    "def to_bool(value):\n",
    "    return value == 't'\n",
    "\n",
    "messages_df['is_opened'] = messages_df['is_opened'].apply(to_bool)\n",
    "messages_df['opened_first_time_at'] = pd.to_datetime(messages_df['opened_first_time_at'])\n",
    "messages_df['opened_last_time_at'] = pd.to_datetime(messages_df['opened_last_time_at'])\n",
    "messages_df['is_clicked'] = messages_df['is_clicked'].apply(to_bool)\n",
    "messages_df['clicked_first_time_at'] = pd.to_datetime(messages_df['clicked_first_time_at'])\n",
    "messages_df['clicked_last_time_at'] = pd.to_datetime(messages_df['clicked_last_time_at'])\n",
    "messages_df['is_unsubscribed'] = messages_df['is_unsubscribed'].apply(to_bool)\n",
    "messages_df['unsubscribed_at'] = pd.to_datetime(messages_df['unsubscribed_at'])\n",
    "messages_df['is_hard_bounced'] = messages_df['is_hard_bounced'].apply(to_bool)\n",
    "messages_df['hard_bounced_at'] = pd.to_datetime(messages_df['hard_bounced_at'])\n",
    "messages_df['is_soft_bounced'] = messages_df['is_soft_bounced'].apply(to_bool)\n",
    "messages_df['soft_bounced_at'] = pd.to_datetime(messages_df['soft_bounced_at'])\n",
    "messages_df['is_complained'] = messages_df['is_complained'].apply(to_bool)\n",
    "messages_df['complained_at'] = pd.to_datetime(messages_df['complained_at'])\n",
    "messages_df['is_blocked'] = messages_df['is_blocked'].apply(to_bool)\n",
    "messages_df['blocked_at'] = pd.to_datetime(messages_df['blocked_at'])\n",
    "messages_df['is_purchased'] = messages_df['is_purchased'].apply(to_bool)\n",
    "messages_df['purchased_at'] = pd.to_datetime(messages_df['purchased_at'])"
   ]
  },
  {
   "cell_type": "code",
   "execution_count": 56,
   "metadata": {},
   "outputs": [],
   "source": [
    "messages_df['created_at'] = pd.to_datetime(\n",
    "    messages_df['created_at'], \n",
    "    format='mixed'  \n",
    ")\n",
    "messages_df['updated_at'] = pd.to_datetime(\n",
    "    messages_df['updated_at'], \n",
    "    format='mixed'\n",
    ")"
   ]
  },
  {
   "cell_type": "code",
   "execution_count": 57,
   "metadata": {},
   "outputs": [
    {
     "name": "stdout",
     "output_type": "stream",
     "text": [
      "<class 'pandas.core.frame.DataFrame'>\n",
      "RangeIndex: 1974236 entries, 0 to 1974235\n",
      "Data columns (total 2 columns):\n",
      " #   Column   Dtype\n",
      "---  ------   -----\n",
      " 0   friend1  int64\n",
      " 1   friend2  int64\n",
      "dtypes: int64(2)\n",
      "memory usage: 30.1 MB\n"
     ]
    }
   ],
   "source": [
    "friends_df = pd.read_csv(\"../data/friends.csv\")\n",
    "friends_df.info()"
   ]
  },
  {
   "cell_type": "markdown",
   "metadata": {},
   "source": [
    "Comparision of channel and message_type from campaigns and campaign_type and channel from messages"
   ]
  },
  {
   "cell_type": "code",
   "execution_count": 58,
   "metadata": {},
   "outputs": [
    {
     "data": {
      "text/plain": [
       "channel\n",
       "mobile_push     1396\n",
       "email            483\n",
       "multichannel      27\n",
       "sms                1\n",
       "Name: count, dtype: int64"
      ]
     },
     "execution_count": 58,
     "metadata": {},
     "output_type": "execute_result"
    }
   ],
   "source": [
    "campaigns_df['channel'].value_counts(dropna=False)"
   ]
  },
  {
   "cell_type": "code",
   "execution_count": 59,
   "metadata": {},
   "outputs": [
    {
     "data": {
      "text/plain": [
       "channel\n",
       "email          1727783\n",
       "mobile_push    1268341\n",
       "web_push            77\n",
       "Name: count, dtype: int64"
      ]
     },
     "execution_count": 59,
     "metadata": {},
     "output_type": "execute_result"
    }
   ],
   "source": [
    "messages_df['channel'].value_counts(dropna=False)"
   ]
  },
  {
   "cell_type": "code",
   "execution_count": 60,
   "metadata": {},
   "outputs": [
    {
     "data": {
      "text/plain": [
       "campaign_type\n",
       "bulk             1830\n",
       "transactional      50\n",
       "trigger            27\n",
       "Name: count, dtype: int64"
      ]
     },
     "execution_count": 60,
     "metadata": {},
     "output_type": "execute_result"
    }
   ],
   "source": [
    "campaigns_df['campaign_type'].value_counts(dropna=False)"
   ]
  },
  {
   "cell_type": "code",
   "execution_count": 61,
   "metadata": {},
   "outputs": [
    {
     "data": {
      "text/plain": [
       "message_type\n",
       "bulk             2119782\n",
       "trigger           638513\n",
       "transactional     237906\n",
       "Name: count, dtype: int64"
      ]
     },
     "execution_count": 61,
     "metadata": {},
     "output_type": "execute_result"
    }
   ],
   "source": [
    "messages_df['message_type'].value_counts(dropna=False)"
   ]
  },
  {
   "cell_type": "code",
   "execution_count": null,
   "metadata": {},
   "outputs": [
    {
     "name": "stdout",
     "output_type": "stream",
     "text": [
      "Покрытие ключей: 100.0%\n"
     ]
    },
    {
     "data": {
      "text/plain": [
       "np.True_"
      ]
     },
     "execution_count": 64,
     "metadata": {},
     "output_type": "execute_result"
    }
   ],
   "source": [
    "def check_merge_possibility(df1, pk_columns, df2, merge_columns):\n",
    "   \n",
    "    pk_duplicates = df1.duplicated(subset=pk_columns).sum()\n",
    "    if pk_duplicates > 0:\n",
    "        print(f\"В первом датасете найдены дубликаты PK: {pk_duplicates} шт\")\n",
    "\n",
    "    df1_key = df1[pk_columns].drop_duplicates().reset_index(drop=True)\n",
    "    df2_key = df2[merge_columns].drop_duplicates().reset_index(drop=True)\n",
    "    merged = df2_key.merge(\n",
    "        df1_key, \n",
    "        left_on=merge_columns, \n",
    "        right_on=pk_columns, \n",
    "        how='left', \n",
    "        indicator=True\n",
    "    )\n",
    "    \n",
    "    missing_keys = merged[merged['_merge'] == 'left_only']\n",
    "    coverage = 1 - len(missing_keys)/len(df2_key)\n",
    "    \n",
    "    print(f\"Покрытие ключей: {coverage:.1%}\")\n",
    "    if len(missing_keys) > 0:\n",
    "        print(f\"Примеры отсутствующих ключей:\")\n",
    "        print(missing_keys.head().to_string(index=False))\n",
    "    \n",
    "    na_in_pk1 = df1[pk_columns].isna().any(axis=1).sum()\n",
    "    na_in_pk2 = df2[merge_columns].isna().any(axis=1).sum()\n",
    "    \n",
    "    if na_in_pk1 > 0:\n",
    "        print(f\"В первом датасете пропуски в PK: {na_in_pk1} строк\")\n",
    "    if na_in_pk2 > 0:\n",
    "        print(f\"Во втором датасете пропуски в ключах: {na_in_pk2} строк\")\n",
    "    \n",
    "    return len(missing_keys) == 0 and pk_duplicates == 0\n",
    "\n",
    "check_merge_possibility(\n",
    "    df1=campaigns_df,\n",
    "    pk_columns=['id', 'campaign_type'],\n",
    "    df2=messages_df,\n",
    "    merge_columns=['campaign_id', 'message_type']\n",
    ")"
   ]
  },
  {
   "cell_type": "markdown",
   "metadata": {},
   "source": [
    "It seems like it could be possible to make composite pk for campaign table and fk for messages. Check more"
   ]
  }
 ],
 "metadata": {
  "kernelspec": {
   "display_name": "Python 3",
   "language": "python",
   "name": "python3"
  },
  "language_info": {
   "codemirror_mode": {
    "name": "ipython",
    "version": 3
   },
   "file_extension": ".py",
   "mimetype": "text/x-python",
   "name": "python",
   "nbconvert_exporter": "python",
   "pygments_lexer": "ipython3",
   "version": "3.13.1"
  }
 },
 "nbformat": 4,
 "nbformat_minor": 2
}
